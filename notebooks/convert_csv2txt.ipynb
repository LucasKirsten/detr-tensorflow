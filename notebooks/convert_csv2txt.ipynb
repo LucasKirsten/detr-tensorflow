{
 "cells": [
  {
   "cell_type": "code",
   "execution_count": 1,
   "metadata": {},
   "outputs": [],
   "source": [
    "import os\n",
    "import pandas as pd\n",
    "from tqdm import tqdm"
   ]
  },
  {
   "cell_type": "code",
   "execution_count": 2,
   "metadata": {},
   "outputs": [],
   "source": [
    "path_to_csv    = input('Provide path to csv file')\n",
    "folder_to_save = input('Provide path to save labels in txt format')\n",
    "\n",
    "img_width  = 512\n",
    "img_height = 512"
   ]
  },
  {
   "cell_type": "code",
   "execution_count": 3,
   "metadata": {},
   "outputs": [],
   "source": [
    "df = pd.read_csv(path_to_csv)"
   ]
  },
  {
   "cell_type": "code",
   "execution_count": 5,
   "metadata": {},
   "outputs": [],
   "source": [
    "# map the corresponding columns that differ from what is expected below\n",
    "names = {'filename':'filename',\n",
    "         'class': 'class',\n",
    "         'xmin':'left',\n",
    "         'xmax':'right',\n",
    "         'ymin':'top',\n",
    "         'ymax':'bottom'}"
   ]
  },
  {
   "cell_type": "code",
   "execution_count": 6,
   "metadata": {},
   "outputs": [
    {
     "name": "stderr",
     "output_type": "stream",
     "text": [
      "100%|███████████████████████████████████████████████████████████████████████████| 65668/65668 [02:47<00:00, 390.93it/s]\n"
     ]
    }
   ],
   "source": [
    "for _,row in tqdm(df.iterrows(), total=len(df)):\n",
    "    filename = row[names['filename']].split('/')[-1].split('.')[0]\n",
    "    \n",
    "    x_center = (row[names['xmin']]+row[names['xmax']])/(2.*img_width)\n",
    "    y_center = (row[names['ymin']]+row[names['ymax']])/(2.*img_height)\n",
    "    width  = (row[names['xmax']]-row[names['xmin']])/img_width\n",
    "    height = (row[names['ymax']]-row[names['ymin']])/img_height\n",
    "    \n",
    "    with open(os.path.join(folder_to_save, filename+'.txt'), 'a') as file:\n",
    "        file.write('{} {} {} {} {}\\n'.format(row[names['class']]-1, x_center, y_center, width, height))"
   ]
  },
  {
   "cell_type": "code",
   "execution_count": null,
   "metadata": {},
   "outputs": [],
   "source": []
  }
 ],
 "metadata": {
  "kernelspec": {
   "display_name": "Python 3",
   "language": "python",
   "name": "python3"
  },
  "language_info": {
   "codemirror_mode": {
    "name": "ipython",
    "version": 3
   },
   "file_extension": ".py",
   "mimetype": "text/x-python",
   "name": "python",
   "nbconvert_exporter": "python",
   "pygments_lexer": "ipython3",
   "version": "3.7.3"
  }
 },
 "nbformat": 4,
 "nbformat_minor": 4
}
